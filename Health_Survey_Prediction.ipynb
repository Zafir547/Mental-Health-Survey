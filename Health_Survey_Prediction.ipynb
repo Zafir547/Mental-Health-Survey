{
 "cells": [
  {
   "cell_type": "markdown",
   "metadata": {},
   "source": [
    "# Mental Health Survey Prediction Project"
   ]
  },
  {
   "cell_type": "markdown",
   "metadata": {},
   "source": [
    "## Overview of The Notebook\n",
    "The Mental Health Survey Prediction Project aims to leverage machine learning to predict mental health conditions such as depression, anxiety, and insomnia among university students based on various lifestyle and demographic factors 📊💡. This project utilizes a Random Forest model to analyze survey data and identify key indicators of mental well-being 🌱."
   ]
  },
  {
   "cell_type": "markdown",
   "metadata": {},
   "source": [
    "### 1. Load and Clean the Data"
   ]
  },
  {
   "cell_type": "code",
   "execution_count": 1,
   "metadata": {},
   "outputs": [
    {
     "name": "stdout",
     "output_type": "stream",
     "text": [
      "Index(['Name', 'Sex', 'Age', 'Hobby', 'University Department',\n",
      "       'University Year', 'Sports', 'BMI', 'Weight Loss', 'Heart Rate',\n",
      "       'Depressed Mode', 'Guilt', 'Insomnia', 'Appetite', 'Suicidal Thought',\n",
      "       'Anxiety'],\n",
      "      dtype='object')\n"
     ]
    }
   ],
   "source": [
    "import pandas as pd\n",
    "\n",
    "# Load the dataset\n",
    "data_path = 'Results.csv'  # Replace with your CSV file path\n",
    "df = pd.read_csv(data_path)\n",
    "\n",
    "# Clean the column names by stripping any leading/trailing spaces\n",
    "df.columns = df.columns.str.strip()\n",
    "\n",
    "# Display the column names to check for any discrepancies\n",
    "print(df.columns)\n"
   ]
  },
  {
   "cell_type": "markdown",
   "metadata": {},
   "source": [
    "###  2. Preprocess the Data"
   ]
  },
  {
   "cell_type": "code",
   "execution_count": 2,
   "metadata": {},
   "outputs": [],
   "source": [
    "from sklearn.model_selection import train_test_split\n",
    "from sklearn.preprocessing import LabelEncoder\n",
    "\n",
    "# Drop the 'Name' column as it is not useful for the model\n",
    "df = df.drop('Name', axis=1)\n",
    "\n",
    "# Encode categorical variables\n",
    "label_encoders = {}\n",
    "for column in df.select_dtypes(include=['object']).columns:\n",
    "    le = LabelEncoder()\n",
    "    df[column] = le.fit_transform(df[column].astype(str))\n",
    "    label_encoders[column] = le\n",
    "\n",
    "# Split the data into features (X) and target (y)\n",
    "X = df.drop('Depressed Mode', axis=1)\n",
    "y = df['Depressed Mode']\n",
    "\n",
    "# Split the data into training and testing sets\n",
    "X_train, X_test, y_train, y_test = train_test_split(X, y, test_size=0.2, random_state=42)\n"
   ]
  },
  {
   "cell_type": "markdown",
   "metadata": {},
   "source": [
    "### 3. Train the Random Forest Model"
   ]
  },
  {
   "cell_type": "code",
   "execution_count": 3,
   "metadata": {},
   "outputs": [
    {
     "name": "stdout",
     "output_type": "stream",
     "text": [
      "Accuracy: 1.0\n",
      "Classification Report:\n",
      "              precision    recall  f1-score   support\n",
      "\n",
      "           0       1.00      1.00      1.00         5\n",
      "\n",
      "    accuracy                           1.00         5\n",
      "   macro avg       1.00      1.00      1.00         5\n",
      "weighted avg       1.00      1.00      1.00         5\n",
      "\n"
     ]
    }
   ],
   "source": [
    "from sklearn.ensemble import RandomForestClassifier\n",
    "from sklearn.metrics import accuracy_score, classification_report\n",
    "\n",
    "# Train the Random Forest model\n",
    "rf_model = RandomForestClassifier(n_estimators=100, random_state=42)\n",
    "rf_model.fit(X_train, y_train)\n",
    "\n",
    "# Make predictions on the test set\n",
    "y_pred = rf_model.predict(X_test)\n",
    "\n",
    "# Evaluate the model\n",
    "accuracy = accuracy_score(y_test, y_pred)\n",
    "report = classification_report(y_test, y_pred)\n",
    "\n",
    "print(f'Accuracy: {accuracy}')\n",
    "print(f'Classification Report:\\n{report}')"
   ]
  },
  {
   "cell_type": "markdown",
   "metadata": {},
   "source": [
    "## Step-by-Step Explanation:\n",
    "\n",
    "### 1-Load and Clean the Data:\n",
    "\n",
    " Load the CSV file and clean column names by stripping any leading/trailing spaces.\n",
    "\n",
    "### 2-Preprocess the Data:\n",
    "\n",
    ". Drop the Name column as it is not useful for model training.\n",
    "\n",
    ". Encode categorical variables using LabelEncoder.\n",
    "\n",
    "### 3-Split the Data:\n",
    "\n",
    " Split the data into features (X) and target (y), then further split into training and testing sets.\n",
    "\n",
    "### 4-Train the Model:\n",
    "\n",
    " Train a Random Forest model using the training data.\n",
    "\n",
    "### 5-Evaluate the Model:\n",
    "\n",
    " Make predictions on the test set and evaluate the model's performance."
   ]
  },
  {
   "cell_type": "markdown",
   "metadata": {},
   "source": []
  }
 ],
 "metadata": {
  "kernelspec": {
   "display_name": "Python 3",
   "language": "python",
   "name": "python3"
  },
  "language_info": {
   "codemirror_mode": {
    "name": "ipython",
    "version": 3
   },
   "file_extension": ".py",
   "mimetype": "text/x-python",
   "name": "python",
   "nbconvert_exporter": "python",
   "pygments_lexer": "ipython3",
   "version": "3.10.11"
  }
 },
 "nbformat": 4,
 "nbformat_minor": 2
}
